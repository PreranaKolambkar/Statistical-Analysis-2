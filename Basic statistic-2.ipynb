{
 "cells": [
  {
   "cell_type": "code",
   "execution_count": null,
   "id": "d436b284-38de-4934-a2bb-02c46f9073f9",
   "metadata": {},
   "outputs": [],
   "source": [
    "#DATA PROVIDED\n",
    "# [1.13, 1.55, 1.43, 0.92, 1.25, 1.36, 1.32, 0.85, 1.07, 1.48, 1.20, 1.33, 1.18, 1.22, 1.29]"
   ]
  },
  {
   "cell_type": "markdown",
   "id": "5247bf91-7447-4370-b401-f0e9324a01cc",
   "metadata": {},
   "source": [
    "# a. Build 99% Confidence Interval Using Sample Standard Deviation"
   ]
  },
  {
   "cell_type": "code",
   "execution_count": 1,
   "id": "dc8498aa-0cf8-4e62-8b74-b76644bd47d7",
   "metadata": {},
   "outputs": [],
   "source": [
    "x=[1.13, 1.55, 1.43, 0.92, 1.25, 1.36, 1.32, 0.85, 1.07, 1.48, 1.20, 1.33, 1.18, 1.22, 1.29]"
   ]
  },
  {
   "cell_type": "code",
   "execution_count": 3,
   "id": "2991bb7d-af2d-4cfd-bcbf-1590cfce509b",
   "metadata": {},
   "outputs": [],
   "source": [
    "import numpy as np"
   ]
  },
  {
   "cell_type": "code",
   "execution_count": 55,
   "id": "e56f7337-29fb-4919-9d7d-962611db8388",
   "metadata": {},
   "outputs": [],
   "source": [
    "n=15   # sample size"
   ]
  },
  {
   "cell_type": "code",
   "execution_count": null,
   "id": "20742d3d-5794-4800-bddc-52e82e291151",
   "metadata": {},
   "outputs": [],
   "source": [
    "#CI=99%  Confidence interval"
   ]
  },
  {
   "cell_type": "code",
   "execution_count": 17,
   "id": "03169fcb-1e94-4734-a86e-8ce5d39af295",
   "metadata": {},
   "outputs": [],
   "source": [
    "xbar=np.mean(x)  #calculate the sample mean"
   ]
  },
  {
   "cell_type": "code",
   "execution_count": 19,
   "id": "b8bd26be-e393-44df-b1ee-75f4daef7f89",
   "metadata": {},
   "outputs": [
    {
     "data": {
      "text/plain": [
       "1.2386666666666666"
      ]
     },
     "execution_count": 19,
     "metadata": {},
     "output_type": "execute_result"
    }
   ],
   "source": [
    "xbar  # sample mean"
   ]
  },
  {
   "cell_type": "code",
   "execution_count": 21,
   "id": "178aef29-e13b-487c-8d4d-2f905727dbed",
   "metadata": {},
   "outputs": [],
   "source": [
    "s=np.std(x) #calcualte the sample standard deviation    "
   ]
  },
  {
   "cell_type": "code",
   "execution_count": 23,
   "id": "95d0d6c2-24a0-48a8-8d1a-b0acf284696d",
   "metadata": {},
   "outputs": [
    {
     "data": {
      "text/plain": [
       "0.18661427836285438"
      ]
     },
     "execution_count": 23,
     "metadata": {},
     "output_type": "execute_result"
    }
   ],
   "source": [
    "s    #sample standard deviation"
   ]
  },
  {
   "cell_type": "code",
   "execution_count": 13,
   "id": "ddeddb14-38c8-40a6-aab5-2a946559a1d8",
   "metadata": {},
   "outputs": [],
   "source": [
    "# t-test with CI"
   ]
  },
  {
   "cell_type": "code",
   "execution_count": 15,
   "id": "c3ef42bc-469d-4b19-b262-3c96bcebf151",
   "metadata": {},
   "outputs": [],
   "source": [
    "# xbar+-t_critical*s/sqrt(n)  # formula used to find the population mean"
   ]
  },
  {
   "cell_type": "code",
   "execution_count": 25,
   "id": "117b9905-9d99-429f-b357-a0ee65e76b1b",
   "metadata": {},
   "outputs": [],
   "source": [
    "import scipy.stats as stats"
   ]
  },
  {
   "cell_type": "code",
   "execution_count": 27,
   "id": "9f63eddf-e573-44f3-9f6e-0d662a5572da",
   "metadata": {},
   "outputs": [],
   "source": [
    "t_critical=stats.t.ppf(0.995,14)\n",
    "# find the T_critical value with CI=99% and df=n-1=15-1=14"
   ]
  },
  {
   "cell_type": "code",
   "execution_count": 31,
   "id": "5641ed39-5e35-47ad-9668-05b20c4fadf0",
   "metadata": {},
   "outputs": [
    {
     "data": {
      "text/plain": [
       "2.97684273411266"
      ]
     },
     "execution_count": 31,
     "metadata": {},
     "output_type": "execute_result"
    }
   ],
   "source": [
    "t_critical"
   ]
  },
  {
   "cell_type": "code",
   "execution_count": 37,
   "id": "ae60ef4d-d647-4397-8042-2dc502890839",
   "metadata": {},
   "outputs": [],
   "source": [
    "EBM=t_critical*(s/np.sqrt(n))  #EBM=Erroe bound measure"
   ]
  },
  {
   "cell_type": "code",
   "execution_count": 39,
   "id": "efc810d9-6cd5-462e-81f3-070bb141fa6c",
   "metadata": {},
   "outputs": [
    {
     "data": {
      "text/plain": [
       "0.14343499802810397"
      ]
     },
     "execution_count": 39,
     "metadata": {},
     "output_type": "execute_result"
    }
   ],
   "source": [
    "EBM"
   ]
  },
  {
   "cell_type": "code",
   "execution_count": 58,
   "id": "1b601e27-96b5-496d-ba20-aedc67bdda63",
   "metadata": {},
   "outputs": [],
   "source": [
    "min_mu=xbar-EBM  "
   ]
  },
  {
   "cell_type": "code",
   "execution_count": 45,
   "id": "bde073dd-813d-4db3-9ab3-11f4cb4d3e50",
   "metadata": {},
   "outputs": [
    {
     "data": {
      "text/plain": [
       "1.0952316686385626"
      ]
     },
     "execution_count": 45,
     "metadata": {},
     "output_type": "execute_result"
    }
   ],
   "source": [
    "min_mu    #  Min Population mean"
   ]
  },
  {
   "cell_type": "code",
   "execution_count": 51,
   "id": "4d8fa098-e6e7-45f8-a646-0bdfd2c5603f",
   "metadata": {},
   "outputs": [],
   "source": [
    "max_mu=xbar+EBM"
   ]
  },
  {
   "cell_type": "code",
   "execution_count": 60,
   "id": "a1c295a9-9bce-4005-829e-05ccc80b2e11",
   "metadata": {},
   "outputs": [
    {
     "data": {
      "text/plain": [
       "1.3821016646947706"
      ]
     },
     "execution_count": 60,
     "metadata": {},
     "output_type": "execute_result"
    }
   ],
   "source": [
    "max_mu  #Max Population mean"
   ]
  },
  {
   "cell_type": "code",
   "execution_count": null,
   "id": "dffd1d9a-a486-4431-aad4-6812b52fb197",
   "metadata": {},
   "outputs": [],
   "source": [
    "# [1.0952,1.3821]= interval"
   ]
  },
  {
   "cell_type": "markdown",
   "id": "14ebdd48-66fe-4dfd-9c6c-221a9af05625",
   "metadata": {},
   "source": [
    "# b. Build 99% Confidence Interval Using Known Population Standard Deviation"
   ]
  },
  {
   "cell_type": "code",
   "execution_count": 63,
   "id": "a23f7187-7504-4536-91bc-f8ea0645e6cd",
   "metadata": {},
   "outputs": [
    {
     "data": {
      "text/plain": [
       "1.2386666666666666"
      ]
     },
     "execution_count": 63,
     "metadata": {},
     "output_type": "execute_result"
    }
   ],
   "source": [
    "xbar"
   ]
  },
  {
   "cell_type": "code",
   "execution_count": 65,
   "id": "4e92cb6a-c544-4fb5-b673-25069c33685a",
   "metadata": {},
   "outputs": [],
   "source": [
    "pop_std=0.2  # given data"
   ]
  },
  {
   "cell_type": "code",
   "execution_count": 73,
   "id": "1891fcc5-3225-4a74-9229-1687634093f9",
   "metadata": {},
   "outputs": [],
   "source": [
    "z_critical=stats.norm.ppf(0.995)  # find critical value suing ztest with 99% CI"
   ]
  },
  {
   "cell_type": "code",
   "execution_count": 75,
   "id": "c1b0c025-4e0f-4c27-af3d-bb0ce1fba476",
   "metadata": {},
   "outputs": [
    {
     "data": {
      "text/plain": [
       "2.5758293035489004"
      ]
     },
     "execution_count": 75,
     "metadata": {},
     "output_type": "execute_result"
    }
   ],
   "source": [
    "z_critical"
   ]
  },
  {
   "cell_type": "code",
   "execution_count": 77,
   "id": "46a213ec-3bf9-4062-9458-04ffb03ac0f8",
   "metadata": {},
   "outputs": [],
   "source": [
    "#x_bar+- z_critical*pop_std/sqrt(n)  # formula to get the interval"
   ]
  },
  {
   "cell_type": "code",
   "execution_count": 85,
   "id": "d51577af-0c09-4847-a7a8-b69e7848e48d",
   "metadata": {},
   "outputs": [],
   "source": [
    "value=z_critical*(pop_std/np.sqrt(n))  # margin of error calculated"
   ]
  },
  {
   "cell_type": "code",
   "execution_count": 87,
   "id": "5519d2fc-c534-4891-bbd4-3df8b2bcf8f8",
   "metadata": {},
   "outputs": [
    {
     "data": {
      "text/plain": [
       "0.13301525327090588"
      ]
     },
     "execution_count": 87,
     "metadata": {},
     "output_type": "execute_result"
    }
   ],
   "source": [
    "value"
   ]
  },
  {
   "cell_type": "code",
   "execution_count": 91,
   "id": "9797a69f-2dfd-4eeb-8d6e-016d74480acd",
   "metadata": {},
   "outputs": [],
   "source": [
    "lower_bound=xbar-value"
   ]
  },
  {
   "cell_type": "code",
   "execution_count": 93,
   "id": "8a306c48-2ae7-4c64-9723-fdfe15db21ac",
   "metadata": {},
   "outputs": [
    {
     "data": {
      "text/plain": [
       "1.1056514133957607"
      ]
     },
     "execution_count": 93,
     "metadata": {},
     "output_type": "execute_result"
    }
   ],
   "source": [
    "lower_bound"
   ]
  },
  {
   "cell_type": "code",
   "execution_count": 95,
   "id": "26dc04d7-0254-4b02-8e29-093c0a0f219d",
   "metadata": {},
   "outputs": [],
   "source": [
    "Upper_bound=xbar+value"
   ]
  },
  {
   "cell_type": "code",
   "execution_count": 97,
   "id": "328b7364-18f1-4731-8865-33e1e9676fa8",
   "metadata": {},
   "outputs": [
    {
     "data": {
      "text/plain": [
       "1.3716819199375725"
      ]
     },
     "execution_count": 97,
     "metadata": {},
     "output_type": "execute_result"
    }
   ],
   "source": [
    "Upper_bound"
   ]
  },
  {
   "cell_type": "code",
   "execution_count": null,
   "id": "6319e4d3-e046-434c-8ac3-65886d2fc540",
   "metadata": {},
   "outputs": [],
   "source": [
    "# [1.1056,1.3716] is the interval\n",
    " "
   ]
  }
 ],
 "metadata": {
  "kernelspec": {
   "display_name": "Python 3 (ipykernel)",
   "language": "python",
   "name": "python3"
  },
  "language_info": {
   "codemirror_mode": {
    "name": "ipython",
    "version": 3
   },
   "file_extension": ".py",
   "mimetype": "text/x-python",
   "name": "python",
   "nbconvert_exporter": "python",
   "pygments_lexer": "ipython3",
   "version": "3.9.20"
  }
 },
 "nbformat": 4,
 "nbformat_minor": 5
}
